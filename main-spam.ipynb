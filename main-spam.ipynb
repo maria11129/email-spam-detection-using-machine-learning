{
 "cells": [
  {
   "cell_type": "code",
   "execution_count": 2,
   "id": "6c5794f2-1960-4aef-b6db-bf025c53c4e5",
   "metadata": {},
   "outputs": [],
   "source": [
    "import numpy as np\n",
    "import pandas as pd\n",
    "from sklearn.model_selection import train_test_split\n",
    "from sklearn.feature_extraction.text import TfidfVectorizer\n",
    "from sklearn.linear_model import LogisticRegression\n",
    "from sklearn.metrics import accuracy_score\n",
    "from imblearn.over_sampling import SMOTE  \n"
   ]
  },
  {
   "cell_type": "code",
   "execution_count": 3,
   "id": "6a52c3da-1d58-46bd-acf8-f434da228c88",
   "metadata": {},
   "outputs": [],
   "source": [
    "df = pd.read_csv('spam.csv', encoding='latin1')\n"
   ]
  },
  {
   "cell_type": "code",
   "execution_count": 4,
   "id": "3304cf38-5aa6-4de5-9d14-d4dd1ede3bef",
   "metadata": {},
   "outputs": [
    {
     "name": "stdout",
     "output_type": "stream",
     "text": [
      "     Category                                            Message Unnamed: 2  \\\n",
      "0         ham  Go until jurong point, crazy.. Available only ...        NaN   \n",
      "1         ham                      Ok lar... Joking wif u oni...        NaN   \n",
      "2        spam  Free entry in 2 a wkly comp to win FA Cup fina...        NaN   \n",
      "3         ham  U dun say so early hor... U c already then say...        NaN   \n",
      "4         ham  Nah I don't think he goes to usf, he lives aro...        NaN   \n",
      "...       ...                                                ...        ...   \n",
      "5567     spam  This is the 2nd time we have tried 2 contact u...        NaN   \n",
      "5568      ham              Will Ì_ b going to esplanade fr home?        NaN   \n",
      "5569      ham  Pity, * was in mood for that. So...any other s...        NaN   \n",
      "5570      ham  The guy did some bitching but I acted like i'd...        NaN   \n",
      "5571      ham                         Rofl. Its true to its name        NaN   \n",
      "\n",
      "     Unnamed: 3 Unnamed: 4  \n",
      "0           NaN        NaN  \n",
      "1           NaN        NaN  \n",
      "2           NaN        NaN  \n",
      "3           NaN        NaN  \n",
      "4           NaN        NaN  \n",
      "...         ...        ...  \n",
      "5567        NaN        NaN  \n",
      "5568        NaN        NaN  \n",
      "5569        NaN        NaN  \n",
      "5570        NaN        NaN  \n",
      "5571        NaN        NaN  \n",
      "\n",
      "[5572 rows x 5 columns]\n"
     ]
    }
   ],
   "source": [
    "df.rename(columns={'v1': 'Category', 'v2': 'Message'}, inplace=True)\n",
    "print(df)\n"
   ]
  },
  {
   "cell_type": "code",
   "execution_count": 5,
   "id": "74033114-4073-42cd-b4e4-810a97933ce5",
   "metadata": {},
   "outputs": [],
   "source": [
    "data = df.where(pd.notnull(df), '')\n"
   ]
  },
  {
   "cell_type": "code",
   "execution_count": 6,
   "id": "b3e69992-e53e-4b17-824e-6e9b832f99c7",
   "metadata": {},
   "outputs": [],
   "source": [
    "data.loc[data['Category'] == 'spam', 'Category'] = 0\n",
    "data.loc[data['Category'] == 'ham', 'Category'] = 1\n"
   ]
  },
  {
   "cell_type": "code",
   "execution_count": 7,
   "id": "97bdd544-0b4f-4af7-ac77-2c1344bc2891",
   "metadata": {},
   "outputs": [
    {
     "name": "stdout",
     "output_type": "stream",
     "text": [
      "     Category                                            Message Unnamed: 2  \\\n",
      "0           1  Go until jurong point, crazy.. Available only ...              \n",
      "1           1                      Ok lar... Joking wif u oni...              \n",
      "2           0  Free entry in 2 a wkly comp to win FA Cup fina...              \n",
      "3           1  U dun say so early hor... U c already then say...              \n",
      "4           1  Nah I don't think he goes to usf, he lives aro...              \n",
      "...       ...                                                ...        ...   \n",
      "5567        0  This is the 2nd time we have tried 2 contact u...              \n",
      "5568        1              Will Ì_ b going to esplanade fr home?              \n",
      "5569        1  Pity, * was in mood for that. So...any other s...              \n",
      "5570        1  The guy did some bitching but I acted like i'd...              \n",
      "5571        1                         Rofl. Its true to its name              \n",
      "\n",
      "     Unnamed: 3 Unnamed: 4  \n",
      "0                           \n",
      "1                           \n",
      "2                           \n",
      "3                           \n",
      "4                           \n",
      "...         ...        ...  \n",
      "5567                        \n",
      "5568                        \n",
      "5569                        \n",
      "5570                        \n",
      "5571                        \n",
      "\n",
      "[5572 rows x 5 columns]\n"
     ]
    }
   ],
   "source": [
    "print(data)"
   ]
  },
  {
   "cell_type": "code",
   "execution_count": null,
   "id": "2ea7e39f-7c4e-415b-8dfa-0c3d4e275b6a",
   "metadata": {},
   "outputs": [],
   "source": [
    "X = data['Message']\n",
    "Y = data['Category']\n"
   ]
  },
  {
   "cell_type": "code",
   "execution_count": null,
   "id": "18f0da7d-f411-4588-b4b0-90f48225fd96",
   "metadata": {},
   "outputs": [],
   "source": [
    "print(X)\n"
   ]
  },
  {
   "cell_type": "code",
   "execution_count": null,
   "id": "907948b4-7c7d-49e2-b078-e9f0d211b3f1",
   "metadata": {},
   "outputs": [],
   "source": [
    "print(Y)"
   ]
  },
  {
   "cell_type": "code",
   "execution_count": null,
   "id": "56e10bc0-17b8-49a4-9fcb-7dccc2676f37",
   "metadata": {},
   "outputs": [],
   "source": [
    "X_train, X_test, Y_train, Y_test = train_test_split(X, Y, test_size=0.2, random_state=3)\n"
   ]
  },
  {
   "cell_type": "code",
   "execution_count": null,
   "id": "88df7f2c-4542-4b23-bab6-9f8e98b00db2",
   "metadata": {},
   "outputs": [],
   "source": [
    "feature_extraction = TfidfVectorizer(min_df=1, stop_words='english', lowercase=True)"
   ]
  },
  {
   "cell_type": "code",
   "execution_count": null,
   "id": "060a99a8-baa0-4879-bdc7-73ad2511f1f5",
   "metadata": {},
   "outputs": [],
   "source": [
    "X_train_features = feature_extraction.fit_transform(X_train)\n",
    "X_test_features = feature_extraction.transform(X_test)"
   ]
  },
  {
   "cell_type": "code",
   "execution_count": null,
   "id": "c64f5b84-d9e5-44e3-afa0-0b140820d258",
   "metadata": {},
   "outputs": [],
   "source": [
    "Y_train = Y_train.astype('int')\n",
    "Y_test = Y_test.astype('int')"
   ]
  },
  {
   "cell_type": "code",
   "execution_count": null,
   "id": "7de62d33-532c-4918-8652-3071dc873d63",
   "metadata": {},
   "outputs": [],
   "source": [
    "smote = SMOTE(random_state=42)  # Initialize SMOTE\n",
    "X_train_resampled, Y_train_resampled = smote.fit_resample(X_train_features, Y_train)"
   ]
  },
  {
   "cell_type": "code",
   "execution_count": null,
   "id": "938eddab-b8b5-4678-985b-c50ab0db2ddc",
   "metadata": {},
   "outputs": [],
   "source": [
    "model = LogisticRegression()\n",
    "model.fit(X_train_resampled, Y_train_resampled)"
   ]
  },
  {
   "cell_type": "code",
   "execution_count": null,
   "id": "da57896f-e976-4f3f-bb1f-a8b8152fc6e0",
   "metadata": {},
   "outputs": [],
   "source": [
    "prediction_on_training_data = model.predict(X_train_resampled)\n",
    "accuracy_on_training_data = accuracy_score(Y_train_resampled, prediction_on_training_data)"
   ]
  },
  {
   "cell_type": "code",
   "execution_count": null,
   "id": "cfc5441b-9c5d-4927-a94e-ba7eef3f125d",
   "metadata": {},
   "outputs": [],
   "source": [
    "prediction_on_test_data = model.predict(X_test_features)\n",
    "accuracy_on_test_data = accuracy_score(Y_test, prediction_on_test_data)"
   ]
  },
  {
   "cell_type": "code",
   "execution_count": null,
   "id": "e50ef01c-713d-4f87-86ca-593b1675f450",
   "metadata": {},
   "outputs": [],
   "source": [
    "print(f\"Accuracy on training data: {accuracy_on_training_data * 100:.2f}%\")\n",
    "print(f\"Accuracy on test data: {accuracy_on_test_data * 100:.2f}%\")"
   ]
  },
  {
   "cell_type": "code",
   "execution_count": null,
   "id": "a7ebc5d1-01fd-464f-96af-39d03e0ae93e",
   "metadata": {},
   "outputs": [],
   "source": [
    "input_your_mail = [\"Congratulations! You've won a prize! Click here to claim your $1000 gift card now: bit.ly/freereward\"]\n",
    "input_data_features = feature_extraction.transform(input_your_mail)"
   ]
  },
  {
   "cell_type": "code",
   "execution_count": null,
   "id": "e7976c21-b65b-4738-8236-332173c1775e",
   "metadata": {},
   "outputs": [],
   "source": [
    "prediction = model.predict(input_data_features)\n",
    "\n",
    "print(prediction)\n",
    "\n",
    "if prediction[0] == 1:\n",
    "    print('Ham mail')\n",
    "else:\n",
    "    print('Spam mail')"
   ]
  },
  {
   "cell_type": "code",
   "execution_count": null,
   "id": "474f82a1-2a28-4955-a109-19a286f8e241",
   "metadata": {},
   "outputs": [],
   "source": []
  },
  {
   "cell_type": "code",
   "execution_count": null,
   "id": "dedb878e-52ea-4977-8711-e8cc7104f7d7",
   "metadata": {},
   "outputs": [],
   "source": []
  }
 ],
 "metadata": {
  "kernelspec": {
   "display_name": "Python 3 (ipykernel)",
   "language": "python",
   "name": "python3"
  },
  "language_info": {
   "codemirror_mode": {
    "name": "ipython",
    "version": 3
   },
   "file_extension": ".py",
   "mimetype": "text/x-python",
   "name": "python",
   "nbconvert_exporter": "python",
   "pygments_lexer": "ipython3",
   "version": "3.12.0"
  }
 },
 "nbformat": 4,
 "nbformat_minor": 5
}
