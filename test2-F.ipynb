{
 "cells": [
  {
   "cell_type": "code",
   "execution_count": 4,
   "id": "02858adf-63e0-45cd-a865-dcf64f98fe58",
   "metadata": {},
   "outputs": [],
   "source": [
    "import numpy as np\n",
    "import pandas as pd\n",
    "from sklearn.model_selection import train_test_split\n",
    "from sklearn.feature_extraction.text import TfidfVectorizer\n",
    "from sklearn.linear_model import LogisticRegression\n",
    "from sklearn.metrics import accuracy_score\n"
   ]
  },
  {
   "cell_type": "code",
   "execution_count": 5,
   "id": "ae1b0e42-c1c0-4912-80da-dfbf85387d2a",
   "metadata": {},
   "outputs": [],
   "source": [
    "df = pd.read_csv('spam.csv', encoding='latin1')"
   ]
  },
  {
   "cell_type": "code",
   "execution_count": 6,
   "id": "bc427dcc-f985-4867-83a7-52f09f38031b",
   "metadata": {},
   "outputs": [],
   "source": [
    "df.rename(columns={'v1': 'Category', 'v2': 'Message'}, inplace=True)\n"
   ]
  },
  {
   "cell_type": "code",
   "execution_count": 7,
   "id": "69e80209-834c-48bb-b8b4-b2c4fd11ab4e",
   "metadata": {},
   "outputs": [],
   "source": [
    "df.fillna('', inplace=True)\n"
   ]
  },
  {
   "cell_type": "code",
   "execution_count": 8,
   "id": "679d282e-7f8a-481d-8cf2-7f930f29a785",
   "metadata": {},
   "outputs": [
    {
     "name": "stdout",
     "output_type": "stream",
     "text": [
      "<class 'pandas.core.frame.DataFrame'>\n",
      "RangeIndex: 5572 entries, 0 to 5571\n",
      "Data columns (total 5 columns):\n",
      " #   Column      Non-Null Count  Dtype \n",
      "---  ------      --------------  ----- \n",
      " 0   Category    5572 non-null   object\n",
      " 1   Message     5572 non-null   object\n",
      " 2   Unnamed: 2  5572 non-null   object\n",
      " 3   Unnamed: 3  5572 non-null   object\n",
      " 4   Unnamed: 4  5572 non-null   object\n",
      "dtypes: object(5)\n",
      "memory usage: 217.8+ KB\n",
      "None\n",
      "  Category                                            Message Unnamed: 2  \\\n",
      "0      ham  Go until jurong point, crazy.. Available only ...              \n",
      "1      ham                      Ok lar... Joking wif u oni...              \n",
      "2     spam  Free entry in 2 a wkly comp to win FA Cup fina...              \n",
      "3      ham  U dun say so early hor... U c already then say...              \n",
      "4      ham  Nah I don't think he goes to usf, he lives aro...              \n",
      "\n",
      "  Unnamed: 3 Unnamed: 4  \n",
      "0                        \n",
      "1                        \n",
      "2                        \n",
      "3                        \n",
      "4                        \n"
     ]
    }
   ],
   "source": [
    "print(df.info())  \n",
    "print(df.head())"
   ]
  },
  {
   "cell_type": "code",
   "execution_count": 9,
   "id": "7f4e3180-f4d0-421f-a712-021f1ecdb031",
   "metadata": {},
   "outputs": [],
   "source": [
    "df.loc[df['Category'] == 'spam', 'Category'] = 0\n",
    "df.loc[df['Category'] == 'ham', 'Category'] = 1\n"
   ]
  },
  {
   "cell_type": "code",
   "execution_count": 10,
   "id": "ea7a6ad1-fc17-4f25-b669-35e7d8121878",
   "metadata": {},
   "outputs": [],
   "source": [
    "X = df.drop(columns=['Category'])  \n",
    "Y = df['Category']"
   ]
  },
  {
   "cell_type": "code",
   "execution_count": 11,
   "id": "e5441a67-9e9a-4a2c-872e-cbf2ee78fa94",
   "metadata": {},
   "outputs": [
    {
     "name": "stdout",
     "output_type": "stream",
     "text": [
      "                                             Message Unnamed: 2 Unnamed: 3  \\\n",
      "0  Go until jurong point, crazy.. Available only ...                         \n",
      "1                      Ok lar... Joking wif u oni...                         \n",
      "2  Free entry in 2 a wkly comp to win FA Cup fina...                         \n",
      "3  U dun say so early hor... U c already then say...                         \n",
      "4  Nah I don't think he goes to usf, he lives aro...                         \n",
      "\n",
      "  Unnamed: 4  \n",
      "0             \n",
      "1             \n",
      "2             \n",
      "3             \n",
      "4             \n",
      "0    1\n",
      "1    1\n",
      "2    0\n",
      "3    1\n",
      "4    1\n",
      "Name: Category, dtype: object\n"
     ]
    }
   ],
   "source": [
    "print(X.head())\n",
    "print(Y.head())"
   ]
  },
  {
   "cell_type": "code",
   "execution_count": null,
   "id": "d3af994d-f3e3-45da-8df8-5f634ec11804",
   "metadata": {},
   "outputs": [],
   "source": []
  }
 ],
 "metadata": {
  "kernelspec": {
   "display_name": "Python 3 (ipykernel)",
   "language": "python",
   "name": "python3"
  },
  "language_info": {
   "codemirror_mode": {
    "name": "ipython",
    "version": 3
   },
   "file_extension": ".py",
   "mimetype": "text/x-python",
   "name": "python",
   "nbconvert_exporter": "python",
   "pygments_lexer": "ipython3",
   "version": "3.12.0"
  }
 },
 "nbformat": 4,
 "nbformat_minor": 5
}
