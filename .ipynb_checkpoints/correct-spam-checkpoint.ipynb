{
 "cells": [
  {
   "cell_type": "code",
   "execution_count": null,
   "id": "01b34e68-ec03-4b6f-8345-b5866be2926d",
   "metadata": {},
   "outputs": [],
   "source": [
    "import numpy as np\n",
    "import pandas as pd\n",
    "from sklearn.model_selection import train_test_split\n",
    "from sklearn.feature_extraction.text import TfidfVectorizer\n",
    "from sklearn.linear_model import LogisticRegression\n",
    "from sklearn.metrics import classification_report, accuracy_score\n",
    "from imblearn.over_sampling import SMOTE\n",
    "from sklearn.metrics import confusion_matrix\n"
   ]
  },
  {
   "cell_type": "code",
   "execution_count": null,
   "id": "c3096420-bb3e-4867-aaee-fc4e694b6673",
   "metadata": {},
   "outputs": [],
   "source": [
    "df = pd.read_csv('spam.csv',encoding='latin1')\n",
    "df.rename(columns={'v1': 'Category', 'v2': 'Message'}, inplace=True)"
   ]
  },
  {
   "cell_type": "code",
   "execution_count": null,
   "id": "8a3fecf7-41ac-4069-9ca9-7462c2c96c7d",
   "metadata": {},
   "outputs": [],
   "source": [
    "print(df)\n"
   ]
  },
  {
   "cell_type": "code",
   "execution_count": null,
   "id": "981fc810-f4eb-4ff0-8925-2f1ffe3a60da",
   "metadata": {},
   "outputs": [],
   "source": [
    "data = df.where(pd.notnull(df), '')\n"
   ]
  },
  {
   "cell_type": "code",
   "execution_count": null,
   "id": "2a52d8ca-9c37-4883-b14f-0eaaedf56b98",
   "metadata": {},
   "outputs": [],
   "source": [
    "data.head(10)\n"
   ]
  },
  {
   "cell_type": "code",
   "execution_count": null,
   "id": "5c1c688c-efd3-49c9-bc54-e14eb367be12",
   "metadata": {},
   "outputs": [],
   "source": [
    "data.info()\n"
   ]
  },
  {
   "cell_type": "code",
   "execution_count": null,
   "id": "f1c1b30e-c263-4b4c-8143-f81285ad82d6",
   "metadata": {},
   "outputs": [],
   "source": [
    "data.shape\n"
   ]
  },
  {
   "cell_type": "code",
   "execution_count": null,
   "id": "fd6cc855-2b82-4f8a-9a75-7f4916171bc9",
   "metadata": {},
   "outputs": [],
   "source": [
    "data.loc[data['Category'] == 'spam', 'Category'] = 0\n",
    "data.loc[data['Category'] == 'ham', 'Category'] = 1"
   ]
  },
  {
   "cell_type": "code",
   "execution_count": null,
   "id": "7009c165-ee04-4dd8-829d-d69797a860af",
   "metadata": {},
   "outputs": [],
   "source": [
    "X= data['Message']\n",
    "Y= data['Category']"
   ]
  },
  {
   "cell_type": "code",
   "execution_count": null,
   "id": "b4d89546-709c-44e0-a220-1bab953828d7",
   "metadata": {},
   "outputs": [],
   "source": [
    "print(X)\n"
   ]
  },
  {
   "cell_type": "code",
   "execution_count": null,
   "id": "fe115eed-013b-4fe2-bcc0-aef4da3a9e84",
   "metadata": {},
   "outputs": [],
   "source": [
    "print(Y)\n"
   ]
  },
  {
   "cell_type": "code",
   "execution_count": null,
   "id": "c250a80e-0dae-491c-b7c8-e51f59ae1b3f",
   "metadata": {},
   "outputs": [],
   "source": [
    "#############################################################################################"
   ]
  },
  {
   "cell_type": "code",
   "execution_count": null,
   "id": "8b6f3a2a-e47c-40b5-a3ee-c44855afcaa8",
   "metadata": {},
   "outputs": [],
   "source": [
    "tfidf_vectorizer = TfidfVectorizer(min_df=1, stop_words='english', lowercase=True)\n",
    "X_features = tfidf_vectorizer.fit_transform(X)\n"
   ]
  },
  {
   "cell_type": "code",
   "execution_count": null,
   "id": "830e1f95-22cd-4e99-8e56-6bbc40825cd2",
   "metadata": {},
   "outputs": [],
   "source": [
    "X_train, X_test, Y_train, Y_test = train_test_split(X_features, Y, test_size=0.2, random_state=42)"
   ]
  },
  {
   "cell_type": "code",
   "execution_count": null,
   "id": "24f1c201-33af-41c6-a490-5b84a73db225",
   "metadata": {},
   "outputs": [],
   "source": [
    "Y_train = Y_train.astype('int')"
   ]
  },
  {
   "cell_type": "code",
   "execution_count": null,
   "id": "1036d245-593e-40d7-b0aa-05fb804de0f0",
   "metadata": {},
   "outputs": [],
   "source": [
    "smote = SMOTE(random_state=42)\n",
    "X_train_resampled, Y_train_resampled = smote.fit_resample(X_train, Y_train)"
   ]
  },
  {
   "cell_type": "code",
   "execution_count": null,
   "id": "82aac290-00f1-445f-978f-496bc9718ecb",
   "metadata": {},
   "outputs": [],
   "source": [
    "model = LogisticRegression()\n",
    "model.fit(X_train_resampled, Y_train_resampled)\n"
   ]
  },
  {
   "cell_type": "code",
   "execution_count": null,
   "id": "2c19c39f-c2f2-4b20-99d2-8b2c63106408",
   "metadata": {},
   "outputs": [],
   "source": [
    "Y_pred = model.predict(X_test)\n"
   ]
  },
  {
   "cell_type": "code",
   "execution_count": null,
   "id": "60f8f5ca-f9d9-450e-a9a1-694cae07ca22",
   "metadata": {},
   "outputs": [],
   "source": [
    "# Check and filter any unexpected values\n",
    "Y_test = Y_test[Y_test.isin([0, 1])]\n",
    "Y_pred = Y_pred[np.isin(Y_pred, [0, 1])]"
   ]
  },
  {
   "cell_type": "code",
   "execution_count": null,
   "id": "43d680ed-7c3c-4c82-bce8-40e99e702c85",
   "metadata": {},
   "outputs": [],
   "source": [
    "# If there are unequal lengths after filtering, ensure we match them\n",
    "min_len = min(len(Y_test), len(Y_pred))\n",
    "Y_test = Y_test[:min_len]\n",
    "Y_pred = Y_pred[:min_len]\n"
   ]
  },
  {
   "cell_type": "code",
   "execution_count": null,
   "id": "fddf35e8-9ec7-4f81-bc40-f21e0122972d",
   "metadata": {},
   "outputs": [],
   "source": [
    "print(\"Accuracy:\", accuracy_score(Y_test, Y_pred))\n",
    "print(\"\\nClassification Report:\\n\", classification_report(Y_test, Y_pred, target_names=['Spam', 'Ham']))\n"
   ]
  },
  {
   "cell_type": "code",
   "execution_count": 23,
   "id": "ab4956da-05c9-445e-abe1-4514c500f012",
   "metadata": {},
   "outputs": [
    {
     "name": "stdout",
     "output_type": "stream",
     "text": [
      "Unique values in Y_test: [1 0]\n",
      "Unique values in Y_pred: [0 1]\n"
     ]
    }
   ],
   "source": [
    "# Check unique values in Y_test and Y_pred\n",
    "print(\"Unique values in Y_test:\", Y_test.unique())\n",
    "print(\"Unique values in Y_pred:\", np.unique(Y_pred))\n"
   ]
  },
  {
   "cell_type": "code",
   "execution_count": 24,
   "id": "8fe734b2-d8d5-47d6-8978-270db3c3a59b",
   "metadata": {},
   "outputs": [
    {
     "ename": "NameError",
     "evalue": "name 'confusion_matrix' is not defined",
     "output_type": "error",
     "traceback": [
      "\u001b[1;31m---------------------------------------------------------------------------\u001b[0m",
      "\u001b[1;31mNameError\u001b[0m                                 Traceback (most recent call last)",
      "Cell \u001b[1;32mIn[24], line 2\u001b[0m\n\u001b[0;32m      1\u001b[0m \u001b[38;5;66;03m# Get the confusion matrix\u001b[39;00m\n\u001b[1;32m----> 2\u001b[0m conf_matrix \u001b[38;5;241m=\u001b[39m \u001b[43mconfusion_matrix\u001b[49m(Y_test, Y_pred)\n\u001b[0;32m      3\u001b[0m \u001b[38;5;28mprint\u001b[39m(\u001b[38;5;124m\"\u001b[39m\u001b[38;5;124mConfusion Matrix:\u001b[39m\u001b[38;5;130;01m\\n\u001b[39;00m\u001b[38;5;124m\"\u001b[39m, conf_matrix)\n\u001b[0;32m      5\u001b[0m \u001b[38;5;66;03m# Check how many spam and ham predictions were made\u001b[39;00m\n",
      "\u001b[1;31mNameError\u001b[0m: name 'confusion_matrix' is not defined"
     ]
    }
   ],
   "source": [
    "# Get the confusion matrix\n",
    "conf_matrix = confusion_matrix(Y_test, Y_pred)\n",
    "print(\"Confusion Matrix:\\n\", conf_matrix)\n",
    "\n",
    "# Check how many spam and ham predictions were made\n",
    "print(\"Spam predictions: \", (Y_pred == 0).sum())\n",
    "print(\"Ham predictions: \", (Y_pred == 1).sum())\n"
   ]
  },
  {
   "cell_type": "code",
   "execution_count": null,
   "id": "7f6ecca3-d177-4a4f-84f2-2c1243677976",
   "metadata": {},
   "outputs": [],
   "source": []
  }
 ],
 "metadata": {
  "kernelspec": {
   "display_name": "Python 3 (ipykernel)",
   "language": "python",
   "name": "python3"
  },
  "language_info": {
   "codemirror_mode": {
    "name": "ipython",
    "version": 3
   },
   "file_extension": ".py",
   "mimetype": "text/x-python",
   "name": "python",
   "nbconvert_exporter": "python",
   "pygments_lexer": "ipython3",
   "version": "3.12.0"
  }
 },
 "nbformat": 4,
 "nbformat_minor": 5
}
